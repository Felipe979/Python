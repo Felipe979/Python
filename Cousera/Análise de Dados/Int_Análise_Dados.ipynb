{
 "cells": [
  {
   "cell_type": "markdown",
   "id": "3b7bf9ea",
   "metadata": {},
   "source": [
    "# Introdução a Análise de Dados em Phyton\n",
    "\n",
    "Iniciaremos o tópico com o seguinte exercício: Roger pretende vender seu automóvel para adquirir uma propriedade em outro estado, no entanto,\n",
    "ele não faz  ideia de como precificar seu veículo e, para realizar tal atividade, pede ajuda a Joseph com o intuíto de vender seu carro pelo melhor\n",
    "preço possível. Joseph explica que o valor do carro depende de muitas variáveis, entre elas: O ano de fabricação, suporte a manutenção, quilômetros rodados, estado visível do veículo, quantidade de cilindros, nº de portas, entre outros fatores. Percebe-se que é necessário avaliar um vasto\n",
    "conjunto de variáveis quantitativas e qualitativas e, para isso, podemos utilizar a Análise de Dados para otimizar a decisão, isto é, o valor da variável preço. "
   ]
  },
  {
   "cell_type": "markdown",
   "id": "d9ef143d",
   "metadata": {},
   "source": [
    "Para fazer a análise de dados Python, primeiro falaremos um pouco a respeito dos pacotes relevantes à esta análise. A biblioteca Python é uma coleção de funções e métodos que permite realizar várias ações sem escrever um código. As bibliotecas normalmente contêm módulos integrados fornecendo diferentes funções que você pode usar diretamente. Há bibliotecas extensas com uma vasta gama de recursos. Dividimos as bibliotecas Python de análise de dados em três grupos:\n",
    "\n",
    "**1. Computação Científica (Análise de dados)**\n",
    "   - Pandas\n",
    "   - NumPy\n",
    "   - SciPy\n",
    "   \n",
    "**2. Visualização de Dados (Criação de gráficos, tabelas e matrizes para visualização de resultados)**\n",
    "   - Matplotlib\n",
    "   - Seaborn\n",
    "   \n",
    "**3. Algoritmo de prendizado de Máquina (Desenvolvimento de modelos para analisar resultados e fazer predições futuras, avaliação de modelos e testes estatísticos)**\n",
    "   - Scikit-learn\n",
    "   - Statsmodels\n",
    "    \n",
    "   "
   ]
  },
  {
   "cell_type": "code",
   "execution_count": null,
   "id": "07518374",
   "metadata": {},
   "outputs": [],
   "source": []
  }
 ],
 "metadata": {
  "kernelspec": {
   "display_name": "Python 3 (ipykernel)",
   "language": "python",
   "name": "python3"
  },
  "language_info": {
   "codemirror_mode": {
    "name": "ipython",
    "version": 3
   },
   "file_extension": ".py",
   "mimetype": "text/x-python",
   "name": "python",
   "nbconvert_exporter": "python",
   "pygments_lexer": "ipython3",
   "version": "3.9.12"
  }
 },
 "nbformat": 4,
 "nbformat_minor": 5
}
