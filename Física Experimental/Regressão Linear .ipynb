{
 "cells": [
  {
   "cell_type": "markdown",
   "id": "063ce82a",
   "metadata": {},
   "source": [
    "# Regressão linear de pontos experimentais\n",
    "## Código super simples\n"
   ]
  },
  {
   "cell_type": "code",
   "execution_count": null,
   "id": "752b741a",
   "metadata": {},
   "outputs": [],
   "source": [
    "#Entrada de dados experimentais, valores de x e y, importando o pacote numpy\n",
    "\n",
    "import numpy as np\n",
    "\n",
    "x = np.array([0, 1., 2., 3, 4, 5, 6]) # Os conjuntos de valores experimentais foram agrupados em vetores\n",
    "y = np.array([0, 2.2, 4.1, 6.7, 8.0, 9.8, 13])\n",
    "print(x)\n",
    "print (y)"
   ]
  },
  {
   "cell_type": "code",
   "execution_count": null,
   "id": "1439f510",
   "metadata": {},
   "outputs": [],
   "source": [
    "#Utilizando a função polyfit para ajustar o modelo\n",
    "\n",
    "np.polyfit?"
   ]
  },
  {
   "cell_type": "markdown",
   "id": "56d52228",
   "metadata": {},
   "source": [
    "Colocar o nome da função e o ponto de interrogação entrará nas informações necessárias para aplicar a função. A função np.polyfit, você entra com os valores de x, depois de y, e que grau de polinômio você quer ajustar, neste caso usaremos grau 1 (regressão linear)"
   ]
  },
  {
   "cell_type": "code",
   "execution_count": null,
   "id": "7add8088",
   "metadata": {},
   "outputs": [],
   "source": [
    "mod_linear = np.polyfit(x, y, 1)\n",
    "print(mod_linear)"
   ]
  },
  {
   "cell_type": "code",
   "execution_count": null,
   "id": "af5896e0",
   "metadata": {},
   "outputs": [],
   "source": [
    "# y = a * x + b\n",
    "a = float(mod_linear[0])\n",
    "b = float(mod_linear[1])\n",
    "print(a)\n",
    "print(b)"
   ]
  },
  {
   "cell_type": "code",
   "execution_count": null,
   "id": "8ff2e73d",
   "metadata": {},
   "outputs": [],
   "source": [
    "y_mod = a * x + b\n",
    "print(y_mod)"
   ]
  },
  {
   "cell_type": "code",
   "execution_count": null,
   "id": "428658b7",
   "metadata": {},
   "outputs": [],
   "source": [
    "#importando o pacote matplotlib para a construção do gráfico\n",
    "import matplotlib.pyplot as plt\n",
    "plt.plot(x,y, \"o\", label = \"Pontos experimentais\")\n",
    "plt.plot(x,y_mod, \"-r\", label = \"Modelo\")\n",
    "plt.xlabel(\"x\")\n",
    "plt.ylabel(\"y\")\n",
    "plt.title(\"Ajuste de uma reta\")\n",
    "plt.legend()\n",
    "plt.show()"
   ]
  },
  {
   "cell_type": "markdown",
   "id": "37b14595",
   "metadata": {},
   "source": [
    "## Refazendo sem imprimir tantos parâmetros\n",
    "\n",
    "Vamos colocar uma mensagem imprimindo os valores do coeficiente angular e do coeficiente linear"
   ]
  },
  {
   "cell_type": "code",
   "execution_count": null,
   "id": "f7f7c381",
   "metadata": {},
   "outputs": [],
   "source": [
    "import numpy as np\n",
    "x = np.array([0, 1., 2., 3, 4, 5, 6])\n",
    "y = np.array([0, 2.2, 4.1, 6.7, 8.0, 9.8, 13])\n",
    "\n",
    "mod_linear = np.polyfit(x, y, 1)\n",
    "\n",
    "a = float(mod_linear[0])\n",
    "b = float(mod_linear[1])\n",
    "\n",
    "y_mod = a * x + b\n",
    "\n",
    "import matplotlib.pyplot as plt\n",
    "plt.plot(x,y, \"o\", label = \"Pontos experimentais\")\n",
    "plt.plot(x,y_mod, \"-r\", label = \"Modelo\")\n",
    "plt.xlabel(\"x\")\n",
    "plt.ylabel(\"y\")\n",
    "plt.title(\"Ajuste de uma reta\")\n",
    "plt.legend()\n",
    "plt.show()\n",
    "\n",
    "print(f\"Coeficiente angular: {a:6.4f}\")\n",
    "print(f\"Coeficiente linear: {b:6.4f}\")"
   ]
  },
  {
   "cell_type": "markdown",
   "id": "1118fb45",
   "metadata": {},
   "source": [
    "### Vamos estimar o coeficiente de determinação"
   ]
  },
  {
   "cell_type": "code",
   "execution_count": null,
   "id": "2dc22a46",
   "metadata": {},
   "outputs": [],
   "source": [
    "#Calculando o coeficiente de determinação do ajuste\n",
    "yresid = y - y_mod\n",
    "SQresid = sum(yresid**2)\n",
    "y_tot = y - np.mean(y)\n",
    "SQtotal = sum(y_tot**2)\n",
    "R2 = 1 - SQresid/SQtotal\n",
    "print('O coeficiente de determinação do ajuste é {:.4f}'.format(R2))"
   ]
  },
  {
   "cell_type": "markdown",
   "id": "efc8d184",
   "metadata": {},
   "source": [
    "Existem outras bibliotecas e funções que realizam a mesma tarefa, por exemplo linergress da biblioteca Scipy, porém esta já apresenta o coeficiente de determinação estimado."
   ]
  },
  {
   "cell_type": "code",
   "execution_count": null,
   "id": "926d02bf",
   "metadata": {},
   "outputs": [],
   "source": [
    "import numpy as np\n",
    "x = np.array([0, 1., 2., 3, 4, 5, 6])\n",
    "y = np.array([0, 2.2, 4.1, 6.7, 8.0, 9.8, 13])\n",
    "\n",
    "from scipy import stats\n",
    "\n",
    "a, b, r, p_value, std_err = stats.linregress(x, y)\n",
    "\n",
    "y_mod = a * x + b\n",
    "\n",
    "import matplotlib.pyplot as plt\n",
    "plt.plot(x,y, \"o\", label = \"pontos experimentais\")\n",
    "plt.plot(x,y_mod, \"-r\", label = \"modelo\")\n",
    "plt.xlabel(\"x\")\n",
    "plt.ylabel(\"y\")\n",
    "plt.title(\"Ajuste de uma reta\")\n",
    "plt.legend()\n",
    "plt.show()\n",
    "\n",
    "print(f\"Coeficiente angular: {a:6.3f}\")\n",
    "print(f\"Coeficiente linear: {b:6.3f}\")\n",
    "print(f\"Coeficiente de determinação: {r**2:6.4f}\")"
   ]
  },
  {
   "cell_type": "markdown",
   "id": "bbe45d12",
   "metadata": {},
   "source": [
    "# Parte 2 da Aula - Regressão Linear\n",
    "\n",
    "Agora vamos importar os dados experimentais de uma planilha do Excel, o arquivo excel tem que estar na pasta onde está o arquivo do Notebook"
   ]
  },
  {
   "cell_type": "code",
   "execution_count": null,
   "id": "4181be0c",
   "metadata": {},
   "outputs": [],
   "source": [
    "import pandas as pd\n",
    "import numpy as np\n",
    "import matplotlib.pyplot as plt\n",
    "\n",
    "#importando os dados\n",
    "importado = pd.read_excel(\"entrada_dados_linear.xlsx\")\n",
    "importado_np = importado.values\n",
    "x = importado_np[:,0]\n",
    "y = importado_np[:,1]\n",
    "\n",
    "#ajustando o modelo linear\n",
    "print(x)\n",
    "print(y)"
   ]
  },
  {
   "cell_type": "markdown",
   "id": "a524020c",
   "metadata": {},
   "source": [
    "Utilizaremos a função polyval para estimar os pontos do modelo"
   ]
  },
  {
   "cell_type": "code",
   "execution_count": null,
   "id": "9b6dd011",
   "metadata": {},
   "outputs": [],
   "source": [
    "#ajustando o modelo linear\n",
    "modelo_linear = np.polyfit(x,y,1)\n",
    "modelo_y = np.polyval(modelo_linear, x) # A função polyval estima um polinômio de grau de acordo com a entrada de dados"
   ]
  },
  {
   "cell_type": "code",
   "execution_count": null,
   "id": "58a3c326",
   "metadata": {},
   "outputs": [],
   "source": [
    "# Comando para determinar o tamanho segundo o qual os textos grafados no gráfico serão impressos na tela:\n",
    "SMALL_SIZE = 14                        \n",
    "MEDIUM_SIZE = 20                       \n",
    "BIGGER_SIZE = 20   \n",
    "plt.rc('font', size=SMALL_SIZE)          \n",
    "plt.rc('axes', titlesize=SMALL_SIZE)     \n",
    "plt.rc('axes', labelsize=SMALL_SIZE)    \n",
    "plt.rc('xtick', labelsize=SMALL_SIZE)    \n",
    "plt.rc('ytick', labelsize=SMALL_SIZE)    \n",
    "plt.rc('legend', fontsize=SMALL_SIZE)    \n",
    "plt.rc('figure', titlesize=BIGGER_SIZE)  \n",
    "\n",
    "#construindo o gráfico\n",
    "f = plt.figure()     \n",
    "ax = f.add_subplot(111)                                                \n",
    "lns1 = ax.plot(x,y,'o',label='Dados experimentais')    \n",
    "lns2 = ax.plot(x,modelo_y,'red',linewidth=2,label='Modelo Linear')\n",
    "ax.set_title(\"Ajuste linear de pontos experimentais\")  \n",
    "ax.set_xlabel('Valores de x',weight='bold')               \n",
    "ax.set_ylabel('Valores de y', weight='bold')\n",
    "ax.grid(True)                                                   \n",
    "f.set_figheight(5)                                                 \n",
    "f.set_figwidth(8)\n",
    "ax.legend(loc=0)                                                   \n",
    "f.patch.set_facecolor('white')                                       \n",
    "plt.style.use('default') \n",
    "plt.savefig('Linearizacao.png', dpi=400)  \n",
    "plt.show()   "
   ]
  },
  {
   "cell_type": "code",
   "execution_count": null,
   "id": "0c9d0761",
   "metadata": {},
   "outputs": [],
   "source": [
    "#Estimando o coeficiente de determinação\n",
    "yresid = y - modelo_y\n",
    "SQresid = sum(yresid**2)\n",
    "y_tot = y - np.mean(y)\n",
    "SQtotal = sum(y_tot**2)\n",
    "R2 = 1 - SQresid/SQtotal\n",
    "\n",
    "#Impressão dos resultados\n",
    "print('O coeficiente angular é {:.4f}'.format(modelo_linear[0]))\n",
    "print('O coeficiente linear é {:.4f}'.format(modelo_linear[1]))\n",
    "print('O coeficiente de determinação do ajuste é {:.4f}'.format(R2))\n",
    "\n",
    "#Escrevendo o arquivo de saída xlsx, exporta um arquivo com todas as informações\n",
    "df_concents= pd.DataFrame({'Valores de x': x, 'Valores de y':y, 'y do modelo':modelo_y, 'coeficiente angular':modelo_linear[0], 'coeficiente linear':modelo_linear[1]})\n",
    "with pd.ExcelWriter('Saída_de_dados_linear.xlsx') as writer:\n",
    "    df_concents.to_excel(writer, sheet_name=\"Saída de Dados\")\n",
    "    writer.save()"
   ]
  },
  {
   "cell_type": "markdown",
   "id": "6fd8dc3b",
   "metadata": {},
   "source": [
    "# Regressão linear com vários pontos experimentais"
   ]
  },
  {
   "cell_type": "code",
   "execution_count": null,
   "id": "5b4e4223",
   "metadata": {},
   "outputs": [],
   "source": [
    "import pandas as pd\n",
    "import numpy as np\n",
    "import matplotlib.pyplot as plt\n",
    "from scipy import stats\n",
    "\n",
    "#importando os dados\n",
    "importado = pd.read_excel(\"media_desvio_dados.xlsx\")\n",
    "importado_np = importado.values\n",
    "x = importado_np[:,0]\n",
    "y_1 = importado_np[:,1]\n",
    "y_2 = importado_np[:,2]\n",
    "y_3 = importado_np[:,3]\n",
    "\n",
    "y = np.array([y_1,y_2,y_3])\n",
    "y = np.transpose(y)"
   ]
  },
  {
   "cell_type": "markdown",
   "id": "71d57165",
   "metadata": {},
   "source": [
    "Estima a média e desvio padrão da triplicata dos valores de y"
   ]
  },
  {
   "cell_type": "code",
   "execution_count": null,
   "id": "a476ce09",
   "metadata": {},
   "outputs": [],
   "source": [
    "y_media = np.mean(y, axis = 1)\n",
    "y_std = np.std(y, axis = 1)\n",
    "\n",
    "media, sigma = np.mean(y, axis = 1), np.std(y, axis = 1)\n",
    "\n",
    "conf_int = stats.norm.interval(0.95, loc=media, scale=sigma) # Aqui utilizamos o intervalo de confiança de 95%"
   ]
  },
  {
   "cell_type": "code",
   "execution_count": null,
   "id": "a0b41deb",
   "metadata": {},
   "outputs": [],
   "source": [
    "# Os valores menor e maior, será utilizado para construir no gráfico a barra de erros\n",
    "menor = np.array(conf_int[0])\n",
    "maior = np.array(conf_int[1])"
   ]
  },
  {
   "cell_type": "code",
   "execution_count": null,
   "id": "84af954f",
   "metadata": {},
   "outputs": [],
   "source": [
    "# Utilizando a função linregress\n",
    "a, b, r, p_value, std_err = stats.linregress(x, y_media) \n",
    "\n",
    "y_mod = a * x + b"
   ]
  },
  {
   "cell_type": "code",
   "execution_count": null,
   "id": "4390fc4a",
   "metadata": {},
   "outputs": [],
   "source": [
    "## Comando para determinar o tamanho segundo o qual os textos grafados no gráfico serão impressos na tela:\n",
    "SMALL_SIZE = 14                        \n",
    "MEDIUM_SIZE = 20                       \n",
    "BIGGER_SIZE = 20   \n",
    "plt.rc('font', size=SMALL_SIZE)          \n",
    "plt.rc('axes', titlesize=SMALL_SIZE)     \n",
    "plt.rc('axes', labelsize=SMALL_SIZE)    \n",
    "plt.rc('xtick', labelsize=SMALL_SIZE)    \n",
    "plt.rc('ytick', labelsize=SMALL_SIZE)    \n",
    "plt.rc('legend', fontsize=SMALL_SIZE)    \n",
    "plt.rc('figure', titlesize=BIGGER_SIZE)  \n",
    "\n",
    "#construindo o gráfico\n",
    "f = plt.figure()     \n",
    "ax = f.add_subplot(111)                                                \n",
    "lns1 = ax.plot(x,y_media,'o',label='Dados experimentais')    \n",
    "lns2 = ax.plot(x,y_mod,'b',linewidth=2,label='Modelo Linear')\n",
    "ax.set_title(\"Ajuste linear de pontos experimentais\") \n",
    "ax.fill_between(x, menor, maior, alpha=0.3, label = 'Intervalo de confiança 95%') \n",
    "ax.set_xlabel('Valores de x',weight='bold')               \n",
    "ax.set_ylabel('Valores de y', weight='bold')\n",
    "ax.grid(True)                                                   \n",
    "f.set_figheight(5)                                                 \n",
    "f.set_figwidth(8)\n",
    "ax.legend(loc=0)                                                   \n",
    "f.patch.set_facecolor('white')                                       \n",
    "plt.style.use('default') \n",
    "plt.savefig('Linearizacao_com_media.png', dpi=400)  \n",
    "plt.show()   "
   ]
  },
  {
   "cell_type": "code",
   "execution_count": null,
   "id": "5f61f9a4",
   "metadata": {},
   "outputs": [],
   "source": [
    "#Impressão dos resultados\n",
    "print('O coeficiente angular é {:.4f}'.format(modelo_linear[0]))\n",
    "print('O coeficiente linear é {:.4f}'.format(modelo_linear[1]))\n",
    "print('O coeficiente de determinação do ajuste é {:.4f}'.format(r**2))\n",
    "#Escrevendo o arquivo de saída xlsx\n",
    "df_concents= pd.DataFrame({'Valores de x': x, 'Valores de y media':y_media, 'y do modelo':modelo_y, 'coeficiente angular':modelo_linear[0], 'coeficiente linear':modelo_linear[1]})\n",
    "with pd.ExcelWriter('Saída_de_dados_linear_media.xlsx') as writer:\n",
    "    df_concents.to_excel(writer, sheet_name=\"Output_concent\")\n",
    "    writer.save()"
   ]
  }
 ],
 "metadata": {
  "kernelspec": {
   "display_name": "Python 3 (ipykernel)",
   "language": "python",
   "name": "python3"
  },
  "language_info": {
   "codemirror_mode": {
    "name": "ipython",
    "version": 3
   },
   "file_extension": ".py",
   "mimetype": "text/x-python",
   "name": "python",
   "nbconvert_exporter": "python",
   "pygments_lexer": "ipython3",
   "version": "3.9.12"
  }
 },
 "nbformat": 4,
 "nbformat_minor": 5
}
