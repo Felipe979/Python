{
 "cells": [
  {
   "cell_type": "code",
   "execution_count": null,
   "id": "be7b84bf",
   "metadata": {},
   "outputs": [],
   "source": [
    "# Configura o tema do notebook para monokai, ajusta o tamanho das fontes e a torna monoespaçada\n",
    "!jt -t monokai -f monaco -fs 12 -nf ptsans -nfs 12 -N -kl -cursw 2 -cursc r -cellw 90% -ofs 12 -dfs 12 -T\n",
    "\n",
    "#Para gráficos se adaptarem ao local, devemos utilizar o seguinte comando\n",
    "from jupyterthemes import jtplot # Importa o tema utilizado\n",
    "# jtplot.style(theme='monokai’) #Este comando altera o tema a ser edidado, o tema padrão é default"
   ]
  },
  {
   "cell_type": "code",
   "execution_count": 7,
   "id": "b6247ea7",
   "metadata": {},
   "outputs": [],
   "source": [
    "!jt -t monokai -f ptsans -fs 12 -nf ptsans -nfs 12 -N -kl -cursw 2 -cursc r -cellw 90% -ofs 12 -dfs 12 -T"
   ]
  }
 ],
 "metadata": {
  "kernelspec": {
   "display_name": "Python 3 (ipykernel)",
   "language": "python",
   "name": "python3"
  },
  "language_info": {
   "codemirror_mode": {
    "name": "ipython",
    "version": 3
   },
   "file_extension": ".py",
   "mimetype": "text/x-python",
   "name": "python",
   "nbconvert_exporter": "python",
   "pygments_lexer": "ipython3",
   "version": "3.9.12"
  }
 },
 "nbformat": 4,
 "nbformat_minor": 5
}
