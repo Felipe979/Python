{
 "cells": [
  {
   "cell_type": "code",
   "execution_count": 3,
   "id": "be7b84bf",
   "metadata": {},
   "outputs": [
    {
     "name": "stdout",
     "output_type": "stream",
     "text": [
      "\n",
      "\tOne of the fonts you requested is not available\n",
      "\tSetting all fonts to default\n"
     ]
    },
    {
     "name": "stderr",
     "output_type": "stream",
     "text": [
      "Traceback (most recent call last):\n",
      "  File \"C:\\Users\\felip\\anaconda3\\lib\\runpy.py\", line 197, in _run_module_as_main\n",
      "    return _run_code(code, main_globals, None,\n",
      "  File \"C:\\Users\\felip\\anaconda3\\lib\\runpy.py\", line 87, in _run_code\n",
      "    exec(code, run_globals)\n",
      "  File \"C:\\Users\\felip\\anaconda3\\Scripts\\jt.exe\\__main__.py\", line 7, in <module>\n",
      "  File \"C:\\Users\\felip\\anaconda3\\lib\\site-packages\\jupyterthemes\\__init__.py\", line 290, in main\n",
      "    install_theme(\n",
      "  File \"C:\\Users\\felip\\anaconda3\\lib\\site-packages\\jupyterthemes\\__init__.py\", line 69, in install_theme\n",
      "    style_less = stylefx.set_font_properties(\n",
      "  File \"C:\\Users\\felip\\anaconda3\\lib\\site-packages\\jupyterthemes\\stylefx.py\", line 142, in set_font_properties\n",
      "    monofont, monofpath = stored_font_dicts(monofont)\n",
      "ValueError: not enough values to unpack (expected 2, got 0)\n"
     ]
    }
   ],
   "source": [
    "# Configura o tema do notebook para monokai, ajusta o tamanho das fontes e a torna monoespaçada\n",
    "!jt -t monokai -f monaco -fs 12 -nf ptsans -nfs 12 -N -kl -cursw 2 -cursc r -cellw 90% -ofs 12 -dfs 12 -T\n",
    "\n",
    "#Para gráficos se adaptarem ao local, devemos utilizar o seguinte comando\n",
    "from jupyterthemes import jtplot # Importa o tema utilizado\n",
    "# jtplot.style(theme='monokai’) #Este comando altera o tema a ser edidado, o tema padrão é default"
   ]
  },
  {
   "cell_type": "code",
   "execution_count": 4,
   "id": "0379c17f",
   "metadata": {},
   "outputs": [
    {
     "name": "stderr",
     "output_type": "stream",
     "text": [
      "'jupyter_themes' nÆo ‚ reconhecido como um comando interno\n",
      "ou externo, um programa oper vel ou um arquivo em lotes.\n"
     ]
    }
   ],
   "source": [
    "!jupyter_themes"
   ]
  }
 ],
 "metadata": {
  "kernelspec": {
   "display_name": "Python 3 (ipykernel)",
   "language": "python",
   "name": "python3"
  },
  "language_info": {
   "codemirror_mode": {
    "name": "ipython",
    "version": 3
   },
   "file_extension": ".py",
   "mimetype": "text/x-python",
   "name": "python",
   "nbconvert_exporter": "python",
   "pygments_lexer": "ipython3",
   "version": "3.9.12"
  }
 },
 "nbformat": 4,
 "nbformat_minor": 5
}
