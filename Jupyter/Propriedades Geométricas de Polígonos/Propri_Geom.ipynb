{
 "cells": [
  {
   "cell_type": "markdown",
   "metadata": {},
   "source": [
    "# Inserindo as coordenadas dos vértices de um polígono regular "
   ]
  },
  {
   "cell_type": "code",
   "execution_count": 1,
   "metadata": {},
   "outputs": [
    {
     "name": "stdout",
     "output_type": "stream",
     "text": [
      "Insira o número de vértices do polígono\n",
      "OBS: O último vértice deve ser sempre igual ao primeiro  >> 4\n",
      "\n",
      "Insira os vértices do seu polígono\n",
      "x_1 = 0\n",
      "y_1 = 0\n",
      "x_2 = 15\n",
      "y_2 = 0\n",
      "x_3 = 15\n",
      "y_3 = 30\n",
      "x_4 = 0\n",
      "y_4 = 30\n",
      "x_5 = 0\n",
      "y_5 = 0\n",
      "\n",
      "\n"
     ]
    }
   ],
   "source": [
    "import matplotlib.pyplot as plt # Biblioteca para plotagem de gráficos gerado pela inserção de coordenadas cartesianas\n",
    "import numpy as np\n",
    "\n",
    "# Para manter a coerência matemática do algoritmo, adicionamos uma unidade ao valor do número de vértices 'n_vert'\n",
    "n_vert = int(input('Insira o número de vértices do polígono\\nOBS: O último vértice deve ser sempre igual ao primeiro  >>  ')) + 1\n",
    "vertices = []\n",
    "xvert = []\n",
    "yvert = []\n",
    "i = 0\n",
    "print('\\nInsira os vértices do seu polígono')\n",
    "\n",
    "for i in range(0, n_vert):\n",
    "    # 1 - Cria uma lista onde cada elemento é um par ordenado do tipo (x,y)\n",
    "    vertices_novos = [float(input('x_{} = '.format(i+1))), float(input('y_{} = '.format(i+1)))]\n",
    "     # 2 - Adiciona o par ordenado criado em cada interação dentro da lista\"vertices\", sempre na última posição\n",
    "    vertices.append(vertices_novos)\n",
    "    # 3 - Cria uma lista que retorna as coordenadas referentes as abscissas e ordenadas separadamente para facilitar os cálculos\n",
    "    # Para x:\n",
    "    xvert_novos = vertices[i][0]\n",
    "    xvert.append(xvert_novos)\n",
    "    # Para y:\n",
    "    yvert_novos = vertices[i][1]\n",
    "    yvert.append(yvert_novos)\n",
    "print('\\n')"
   ]
  },
  {
   "cell_type": "markdown",
   "metadata": {},
   "source": [
    "# Imprimindo o conjunto de pontos e gerando o polígono"
   ]
  },
  {
   "cell_type": "code",
   "execution_count": 3,
   "metadata": {},
   "outputs": [
    {
     "data": {
      "image/png": "[encoded data removed]",
      "text/plain": [
       "<Figure size 1200x800 with 1 Axes>"
      ]
     },
     "metadata": {
      "needs_background": "light"
     },
     "output_type": "display_data"
    }
   ],
   "source": [
    "plt.figure(dpi=200) # Configurando a resolução do gráfico\n",
    "plt.plot(xvert, yvert, marker = 'o', markersize = 4, color = 'g',) # Definindo os eixos x e y do gráfico e o marcador dos pontos que representam os vértices\n",
    "plt.savefig(\"teste5.png\") # Configurando o nome da imagem a ser salva\n",
    "plt.show() # Exibindo o gráfico"
   ]
  },
  {
   "cell_type": "markdown",
   "metadata": {},
   "source": [
    "# Cálculo das propriedades geométricas do polígono\n",
    "\n",
    "## Área\n",
    "\n",
    "### A área de um polígono, em função de seus vértices, é dada pela soma de Gauss, que vem a ser: \n",
    "\n",
    "$$ \\displaystyle{A = \\dfrac{1}{2} \\sum_{n = 0}^{n - 1} [x_{i} \\cdot y_{i+1} - x_{i+1} \\cdot y_{i}]} $$"
   ]
  },
  {
   "cell_type": "code",
   "execution_count": 4,
   "metadata": {},
   "outputs": [
    {
     "name": "stdout",
     "output_type": "stream",
     "text": [
      "Área  =  450.000\n"
     ]
    }
   ],
   "source": [
    "# No início de cada operação de cálculo, resetamos a variável auxiliar \"i\" e criamos uma variável que se deseja descobrir, que nesse caso, se chama \"area\", que também deve iniciar em 0\n",
    "i = 0\n",
    "area = 0\n",
    "# Em seguida, implementamos a Soma de Gauss utilizando um loop/laço do tipo \"For\" para calcular a área poligonal\n",
    "for i in range(0, n_vert-1):\n",
    "    area_teste = 0.5 * (xvert[i] * yvert[i+1] - xvert[i+1] * yvert[i])\n",
    "    area += area_teste # É equivalente a area = area + area_teste\n",
    "print('Área  =  {:.3f}'.format(area))"
   ]
  },
  {
   "cell_type": "markdown",
   "metadata": {},
   "source": [
    "## CENTRÓIDE\n",
    "\n",
    "### As coordenadas do centróide de um polígono, em função de seus vértices, são obtidas através das seguintes relações\n",
    "\n",
    "$$ \\displaystyle{C_x = \\dfrac{1}{6A} \\sum_{n = 0}^{n - 1} [x_{i} \\cdot y_{i+1} - x_{i+1} \\cdot y_{i}] \\hspace{.1cm} [x_{i} + x_{i+1}]} $$\n",
    "\n",
    "$$  \\displaystyle{C_y = \\dfrac{1}{6A} \\sum_{n = 0}^{n - 1} [x_{i} \\cdot y_{i+1} - x_{i+1} \\cdot y_{i}] \\hspace{.1cm} [y_{i} + y_{i+1}]} $$ "
   ]
  },
  {
   "cell_type": "markdown",
   "metadata": {},
   "source": [
    "### $C_x$"
   ]
  },
  {
   "cell_type": "code",
   "execution_count": 5,
   "metadata": {},
   "outputs": [
    {
     "name": "stdout",
     "output_type": "stream",
     "text": [
      "Cx  =  7.5000\n"
     ]
    }
   ],
   "source": [
    "i = 0\n",
    "cx = 0\n",
    "for i in range(0, n_vert-1):\n",
    "    cx_teste = (xvert[i]* yvert[i+1] - xvert[i+1] * yvert[i]) * (xvert[i] + xvert[i+1] )\n",
    "    cx += cx_teste # É equivalente a cx = cx + cx_teste\n",
    "Cx = (1/(6*area)) * (cx)\n",
    "print('Cx  =  {:.4f}'.format(Cx))"
   ]
  },
  {
   "cell_type": "markdown",
   "metadata": {},
   "source": [
    "### $C_y$"
   ]
  },
  {
   "cell_type": "code",
   "execution_count": 6,
   "metadata": {},
   "outputs": [
    {
     "name": "stdout",
     "output_type": "stream",
     "text": [
      "Cy  =  15.0000\n"
     ]
    }
   ],
   "source": [
    "i = 0\n",
    "cy= 0\n",
    "for i in range(0, n_vert-1):\n",
    "    cy_teste = (xvert[i]* yvert[i+1] - xvert[i+1] * yvert[i]) * (yvert[i] + yvert[i+1] )\n",
    "    cy += cy_teste # É equivalente a cy = cy + cy_teste\n",
    "Cy = (1/(6*area)) * (cy) \n",
    "print('Cy  =  {:.4f}'.format(Cy))"
   ]
  },
  {
   "cell_type": "markdown",
   "metadata": {},
   "source": [
    "## MOMENTOS DE 1ª ORDEM EM RELAÇÃO AOS EIXOS ORDENADOS\n",
    "\n",
    "### São obtidos através das seguintes relações:\n",
    "\n",
    "$$ \\displaystyle{Q_x = A \\cdot C_y} $$\n",
    "\n",
    "$$ \\displaystyle{Q_y = A \\cdot C_x} $$"
   ]
  },
  {
   "cell_type": "code",
   "execution_count": 7,
   "metadata": {},
   "outputs": [
    {
     "name": "stdout",
     "output_type": "stream",
     "text": [
      "Qx  =  6.7500e+03\n",
      "Qy  =  3.3750e+03\n"
     ]
    }
   ],
   "source": [
    "Qx = area * Cy\n",
    "Qy = area * Cx\n",
    "\n",
    "print(f\"Qx  =  {Qx:.4e}\")\n",
    "print(f\"Qy  =  {Qy:.4e}\")"
   ]
  },
  {
   "cell_type": "markdown",
   "metadata": {},
   "source": [
    "## MOMENTOS DE 2ª ORDEM EM RELAÇÃO AOS EIXOS ORDENADOS\n",
    "\n",
    "### São obtidos através das seguintes relações:\n",
    "\n",
    "$$\\displaystyle{I_x = \\dfrac{1}{12} \\sum_{n = 0}^{n - 1} [x_{i} \\cdot y_{i+1} - x_{i+1} \\cdot y_{i}] \\hspace{.1cm} [(y_{i})^2 + (y_{i} \\cdot y_{i+1}) +  (y_{i+1})^2]}$$\n",
    "\n",
    "$$\\displaystyle{I_y= \\dfrac{1}{12} \\sum_{n = 0}^{n - 1} [x_{i} \\cdot y_{i+1} - x_{i+1} \\cdot y_{i}] \\hspace{.1cm} [(x_{i})^2 + (x_{i} \\cdot x_{i+1}) +  (x_{i+1})^2]}$$"
   ]
  },
  {
   "cell_type": "markdown",
   "metadata": {},
   "source": [
    "### $I_x$"
   ]
  },
  {
   "cell_type": "code",
   "execution_count": 8,
   "metadata": {},
   "outputs": [
    {
     "name": "stdout",
     "output_type": "stream",
     "text": [
      "Ix  =  1.3500e+05\n"
     ]
    }
   ],
   "source": [
    "i = 0\n",
    "inx = 0\n",
    "for i in range(0, n_vert-1):\n",
    "    inx_teste = (xvert[i]* yvert[i+1] - xvert[i+1] * yvert[i]) * ( (yvert[i]**2) + (yvert[i]* yvert[i+1]) + (yvert[i+1]**2) )\n",
    "    inx += inx_teste\n",
    "Ix = (1/12) * (inx)\n",
    "print(f\"Ix  =  {Ix:.4e}\")"
   ]
  },
  {
   "cell_type": "markdown",
   "metadata": {},
   "source": [
    "### $I_y$"
   ]
  },
  {
   "cell_type": "code",
   "execution_count": 9,
   "metadata": {},
   "outputs": [
    {
     "name": "stdout",
     "output_type": "stream",
     "text": [
      "Iy  =  3.3750e+04\n"
     ]
    }
   ],
   "source": [
    "i = 0\n",
    "iny = 0\n",
    "for i in range(0, n_vert-1):\n",
    "    iny_teste = (xvert[i]* yvert[i+1] - xvert[i+1] * yvert[i]) * ( (xvert[i]**2) + (xvert[i]* xvert[i+1]) + (xvert[i+1]**2) )\n",
    "    iny += iny_teste\n",
    "Iy = (1/12) * (iny)\n",
    "print(f\"Iy  =  {Iy:.4e}\")"
   ]
  },
  {
   "cell_type": "markdown",
   "metadata": {},
   "source": [
    "## MOMENTOS DE 2ª ORDEM EM RELAÇÃO AOS EIXOS CENTROIDAIS\n",
    "\n",
    "### São obtidos através das seguintes relações:\n",
    "\n",
    "$$  \\displaystyle{\\overline{I}_x = I_x - A \\cdot (C_y)^2} $$ \n",
    "\n",
    "$$  \\displaystyle{\\overline{I}_y = I_y - A \\cdot (C_x)^2} $$ "
   ]
  },
  {
   "cell_type": "markdown",
   "metadata": {},
   "source": [
    "### $\\overline{I}_x$"
   ]
  },
  {
   "cell_type": "code",
   "execution_count": 10,
   "metadata": {},
   "outputs": [
    {
     "name": "stdout",
     "output_type": "stream",
     "text": [
      "Ixc  =  3.3750e+04\n"
     ]
    }
   ],
   "source": [
    "Ixc = Ix - area * (Cy**2)\n",
    "print(f\"Ixc  =  {Ixc:.4e}\")"
   ]
  },
  {
   "cell_type": "markdown",
   "metadata": {},
   "source": [
    "### $\\overline{I}_y$"
   ]
  },
  {
   "cell_type": "code",
   "execution_count": 11,
   "metadata": {},
   "outputs": [
    {
     "name": "stdout",
     "output_type": "stream",
     "text": [
      "Iyc  =  8.4375e+03\n"
     ]
    }
   ],
   "source": [
    "Iyc = Iy - area * (Cx**2)\n",
    "print(f\"Iyc  =  {Iyc:.4e}\")"
   ]
  },
  {
   "cell_type": "markdown",
   "metadata": {},
   "source": [
    "## MOMENTO POLAR DE INÉRCIA EM RELAÇÃO À ORIGEM DOS EIXOS COORDENADOS\n",
    "\n",
    "### É determinado pela seguinte expressão: \n",
    "$$ \\displaystyle{J_o = I_x + I_y} $$"
   ]
  },
  {
   "cell_type": "markdown",
   "metadata": {},
   "source": [
    "### $J_o$"
   ]
  },
  {
   "cell_type": "code",
   "execution_count": 12,
   "metadata": {},
   "outputs": [
    {
     "name": "stdout",
     "output_type": "stream",
     "text": [
      "Jo  =  1.6875e+05\n"
     ]
    }
   ],
   "source": [
    "Jo = Ix + Iy\n",
    "print(f\"Jo  =  {Jo:.4e}\")"
   ]
  },
  {
   "cell_type": "markdown",
   "metadata": {},
   "source": [
    "## MOMENTO POLAR DE INÉRCIA EM RELAÇÃO AO CENTRÓIDE\n",
    "\n",
    "### É determinado pela seguinte expressão: \n",
    "\n",
    "$$ \\displaystyle{ \\overline{J}_o = \\overline{I}_x + \\overline{I}_y} $$"
   ]
  },
  {
   "cell_type": "markdown",
   "metadata": {},
   "source": [
    "### $\\overline{J}_o$"
   ]
  },
  {
   "cell_type": "code",
   "execution_count": 13,
   "metadata": {},
   "outputs": [
    {
     "name": "stdout",
     "output_type": "stream",
     "text": [
      "Joc  =  4.2188e+04\n"
     ]
    }
   ],
   "source": [
    "Joc = Ixc + Iyc\n",
    "print(f\"Joc  =  {Joc:.4e}\")"
   ]
  },
  {
   "cell_type": "markdown",
   "metadata": {},
   "source": [
    "## RAIO DE GIRAÇÃO EM RELAÇÃO AOS EIXOS COORDENADOS\n",
    "\n",
    "### São determinados pelas seguintes relações\n",
    "\n",
    "$$ \\displaystyle{K_x = \\sqrt{\\dfrac{Ix}{A}}}$$\n",
    "\n",
    "$$ \\displaystyle{K_y = \\sqrt{\\dfrac{Iy}{A}}}$$"
   ]
  },
  {
   "cell_type": "code",
   "execution_count": 14,
   "metadata": {},
   "outputs": [
    {
     "name": "stdout",
     "output_type": "stream",
     "text": [
      "Kx  =  17.3205\n"
     ]
    }
   ],
   "source": [
    "Kx = np.sqrt(Ix/area)\n",
    "print('Kx  =  {:.4f}'.format(Kx))"
   ]
  },
  {
   "cell_type": "code",
   "execution_count": 15,
   "metadata": {},
   "outputs": [
    {
     "name": "stdout",
     "output_type": "stream",
     "text": [
      "Ky  =  8.6603\n"
     ]
    }
   ],
   "source": [
    "Ky = np.sqrt(Iy/area)\n",
    "print('Ky  =  {:.4f}'.format(Ky))"
   ]
  },
  {
   "cell_type": "markdown",
   "metadata": {},
   "source": [
    "## RAIO DE GIRAÇÃO EM RELAÇÃO AOS EIXOS COORDENADOS\n",
    "\n",
    "### São determinados pelas seguintes relações\n",
    "\n",
    "$$ \\displaystyle{\\overline{K}_x = \\sqrt{\\dfrac{\\overline{I}_x}{A}}}$$\n",
    "\n",
    "$$ \\displaystyle{\\overline{K}_y = \\sqrt{\\dfrac{\\overline{I}_y}{A}}}$$"
   ]
  },
  {
   "cell_type": "code",
   "execution_count": 16,
   "metadata": {},
   "outputs": [
    {
     "name": "stdout",
     "output_type": "stream",
     "text": [
      "Kxc  =  8.6603\n"
     ]
    }
   ],
   "source": [
    "Kxc = np.sqrt(Ixc/area)\n",
    "print('Kxc  =  {:.4f}'.format(Kxc))"
   ]
  },
  {
   "cell_type": "code",
   "execution_count": 17,
   "metadata": {},
   "outputs": [
    {
     "name": "stdout",
     "output_type": "stream",
     "text": [
      "Kyc  =  4.3301\n"
     ]
    }
   ],
   "source": [
    "Kyc = np.sqrt(Iyc/area)\n",
    "print('Kyc  =  {:.4f}'.format(Kyc))\n",
    "#print(np.format_float_scientific(Kyc, precision = 4, exp_digits=2)) # Formatação científica usando o numpy, que vem a ser (variável, precisão, dígitos do expoente)\n",
    "#print(f\"{Kyc:.4E}\") # Formatação utilizando o fstrings, que vem a ser (f\"{variável:.nº de dígitosE}) ou (f\"{variável:.nº de dígitose})"
   ]
  },
  {
   "cell_type": "markdown",
   "metadata": {},
   "source": [
    "## RAIO DE GIRAÇÃO POLAR EM RELAÇÃO AOS EIXOS COORDENADOS\n",
    "\n",
    "### É dado pela expressão\n",
    "\n",
    "$$ \\displaystyle{K_o = \\sqrt{\\dfrac{J_o}{A}}}$$"
   ]
  },
  {
   "cell_type": "code",
   "execution_count": 18,
   "metadata": {},
   "outputs": [
    {
     "name": "stdout",
     "output_type": "stream",
     "text": [
      "Ko  =  19.3649\n"
     ]
    }
   ],
   "source": [
    "Ko = np.sqrt(Jo/area)\n",
    "print('Ko  =  {:.4f}'.format(Ko))"
   ]
  },
  {
   "cell_type": "markdown",
   "metadata": {},
   "source": [
    "## RAIO DE GIRAÇÃO POLAR EM RELAÇÃO AO CENTRÓIDE\n",
    "\n",
    "### É dado pela expressão\n",
    "\n",
    "$$ \\displaystyle{\\overline{K}_o = \\sqrt{\\dfrac{\\overline{J}_o}{A}}}$$"
   ]
  },
  {
   "cell_type": "code",
   "execution_count": 19,
   "metadata": {},
   "outputs": [
    {
     "name": "stdout",
     "output_type": "stream",
     "text": [
      "Koc  =  9.6825\n"
     ]
    }
   ],
   "source": [
    "Koc = np.sqrt(Joc/area)\n",
    "print('Koc  =  {:.4f}'.format(Koc))"
   ]
  },
  {
   "cell_type": "markdown",
   "metadata": {},
   "source": [
    "## MÓDULO DE RESISTÊNCIA EM RELAÇÃO AO EIXO CENTROIDAL X\n",
    "\n",
    "### É dado através da seguinte expressão\n",
    "\n",
    "$$ W = \\dfrac{\\overline{I}_x}{C_y} $$"
   ]
  },
  {
   "cell_type": "code",
   "execution_count": 20,
   "metadata": {},
   "outputs": [
    {
     "name": "stdout",
     "output_type": "stream",
     "text": [
      "W  =  2.2500e+03\n"
     ]
    }
   ],
   "source": [
    "W = Ixc / Cy\n",
    "print(f\"W  =  {W:.4e}\")"
   ]
  }
 ],
 "metadata": {
  "kernelspec": {
   "display_name": "Python 3 (ipykernel)",
   "language": "python",
   "name": "python3"
  },
  "language_info": {
   "codemirror_mode": {
    "name": "ipython",
    "version": 3
   },
   "file_extension": ".py",
   "mimetype": "text/x-python",
   "name": "python",
   "nbconvert_exporter": "python",
   "pygments_lexer": "ipython3",
   "version": "3.9.12"
  },
  "latex_envs": {
   "LaTeX_envs_menu_present": false,
   "autoclose": true,
   "autocomplete": true,
   "bibliofile": "biblio.bib",
   "cite_by": "apalike",
   "current_citInitial": 1,
   "eqLabelWithNumbers": true,
   "eqNumInitial": 1,
   "hotkeys": {
    "equation": "Ctrl-E",
    "itemize": "Ctrl-I"
   },
   "labels_anchors": false,
   "latex_user_defs": true,
   "report_style_numbering": false,
   "user_envs_cfg": false
  },
  "vscode": {
   "interpreter": {
    "hash": "83b617c66aa9ed92efeb8629453f4b5eb61ab11a86f5ad7ba589d02897e9d812"
   }
  }
 },
 "nbformat": 4,
 "nbformat_minor": 4
}
