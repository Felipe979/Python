{
 "cells": [
  {
   "cell_type": "code",
   "execution_count": 3,
   "id": "3a8352f6",
   "metadata": {},
   "outputs": [
    {
     "name": "stdout",
     "output_type": "stream",
     "text": [
      "Reset css and font defaults in:\n",
      "C:\\Users\\felip\\.jupyter\\custom &\n",
      "C:\\Users\\felip\\AppData\\Roaming\\jupyter\\nbextensions\n"
     ]
    }
   ],
   "source": [
    "# Configura o tema do notebook para monokai, ajusta o tamanho das fontes e a torna monoespaçada\n",
    "!jt -r -f fira -fs 14 -nf ptsans -nfs 14 -N -kl -cursw 2 -cursc r -cellw 95% -ofs 14 -dfs 14 -T\n",
    "\n",
    "#Para gráficos se adaptarem ao local, devemos utilizar o seguinte comando\n",
    "from jupyterthemes import jtplot # Importa o tema utilizado\n",
    "# jtplot.style(theme='monokai’) #Este comando altera o tema a ser edidado, o tema padrão é default"
   ]
  },
  {
   "cell_type": "code",
   "execution_count": null,
   "id": "74b95635",
   "metadata": {},
   "outputs": [],
   "source": []
  }
 ],
 "metadata": {
  "kernelspec": {
   "display_name": "Python 3",
   "language": "python",
   "name": "python3"
  },
  "language_info": {
   "codemirror_mode": {
    "name": "ipython",
    "version": 3
   },
   "file_extension": ".py",
   "mimetype": "text/x-python",
   "name": "python",
   "nbconvert_exporter": "python",
   "pygments_lexer": "ipython3",
   "version": "3.8.5"
  }
 },
 "nbformat": 4,
 "nbformat_minor": 5
}
