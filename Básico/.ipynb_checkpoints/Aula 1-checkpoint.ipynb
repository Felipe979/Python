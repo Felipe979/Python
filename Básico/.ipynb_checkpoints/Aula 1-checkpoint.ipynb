{
 "cells": [
  {
   "cell_type": "markdown",
   "metadata": {},
   "source": [
    "### Introdução\n",
    "\n",
    "As variáveis do tipo char e string(caracteres e textos) são impressas utilizando\n",
    "aspas simples ('exemplo_1')  ou aspas duplas(\"exemplo_1\").\n",
    "\n",
    "Variáveis numéricas são expressas utilizando o próprio nome da variável"
   ]
  },
  {
   "cell_type": "code",
   "execution_count": 4,
   "metadata": {},
   "outputs": [
    {
     "name": "stdout",
     "output_type": "stream",
     "text": [
      "Olá Mundo!\n",
      "Hello World\n",
      "Olá Mundo!Hello World\n",
      "Olá Mundo! Hello World\n",
      "60\n"
     ]
    }
   ],
   "source": [
    "print('Olá Mundo!')\n",
    "print(\"Hello World\")\n",
    "print('Olá Mundo!' 'Hello World')\n",
    "print('Olá Mundo! ' 'Hello World')\n",
    "\n",
    "print(10+50)"
   ]
  },
  {
   "cell_type": "markdown",
   "metadata": {},
   "source": [
    "### Operações matemáticas básicas nativas"
   ]
  },
  {
   "cell_type": "code",
   "execution_count": 5,
   "metadata": {},
   "outputs": [
    {
     "name": "stdout",
     "output_type": "stream",
     "text": [
      "12\n",
      "55\n",
      "405\n",
      "7.0\n",
      "3125\n",
      "2\n"
     ]
    }
   ],
   "source": [
    "print(5+7 )       # Adição\n",
    "print(90-35)     # Subtração\n",
    "print(45*9)      # Multiplicação \n",
    "print(63/9)      # Divisão \n",
    "print(5**5)     # Potenciação\n",
    "print(11%3) # Resto da divisão entre 11 e 3 (Operação Mod)"
   ]
  },
  {
   "cell_type": "markdown",
   "metadata": {},
   "source": [
    "## Atribuindo variáveis"
   ]
  },
  {
   "cell_type": "code",
   "execution_count": 6,
   "metadata": {},
   "outputs": [
    {
     "name": "stdout",
     "output_type": "stream",
     "text": [
      "Batata Batata Batata \n"
     ]
    }
   ],
   "source": [
    "a = 5                     # Significa dizer que na variável a, armazenamos o dado 5\n",
    "texto = \"Batata \"  # Significa dizer que na variável texto, armazenamos os dados Batata\n",
    "print(3*texto)      # Aqui estamos repetindo 3 vezes o conteúdo string contido na variável texto"
   ]
  },
  {
   "cell_type": "code",
   "execution_count": 7,
   "metadata": {},
   "outputs": [
    {
     "name": "stdout",
     "output_type": "stream",
     "text": [
      "<class 'str'>\n",
      "<class 'int'>\n"
     ]
    }
   ],
   "source": [
    "m = 'z'\n",
    "print(type(m)) # O comando type mostra o tipo de uma variável, função ou operador.\n",
    "print(type(a))"
   ]
  },
  {
   "cell_type": "markdown",
   "metadata": {},
   "source": [
    "## Input e Output de dados\n",
    "\n",
    "Input é uma função com o objetivo de interagir com o mundo externo. Tem o objetivo de coletar \\\n",
    "armazenar, trabalhar e/ou processar os dados fornecidos pelo usuário. Por padrão, o Phyton ar- \\\n",
    "mazena os valores fornecidos pelo usuário como variáveis do tipo string. Para armazenarmos\n",
    "valores em tipo float ou int, devemos informar o tipo de variável que deve ser inserida pelo usuário"
   ]
  },
  {
   "cell_type": "code",
   "execution_count": 8,
   "metadata": {},
   "outputs": [
    {
     "name": "stdout",
     "output_type": "stream",
     "text": [
      "Qual a sua idade? \n",
      "10\n",
      "<class 'str'>\n",
      "Qual a sua idade? \n",
      "10\n",
      "<class 'int'>\n",
      "Qual a sua idade? \n",
      "10\n",
      "<class 'float'>\n"
     ]
    }
   ],
   "source": [
    "idade = input('Qual a sua idade? \\n')\n",
    "print(type(idade))\n",
    "\n",
    "idade = int(input('Qual a sua idade? \\n'))\n",
    "print(type(idade))\n",
    "\n",
    "idade = float(input('Qual a sua idade? \\n'))\n",
    "print(type(idade))\n"
   ]
  },
  {
   "cell_type": "markdown",
   "metadata": {},
   "source": [
    "Outras linguagens possuem o tipo \"double\" para representar números de ponto flutuante. \\\n",
    "Em Python usamos float e, caso seja necessária uma precisão de casas decimais, pode-\\\n",
    "mos importar e usar o pacote Decimal, como é mostrado no exemplo abaixo:"
   ]
  },
  {
   "cell_type": "code",
   "execution_count": 9,
   "metadata": {},
   "outputs": [
    {
     "name": "stdout",
     "output_type": "stream",
     "text": [
      "0.01\n",
      "<class 'decimal.Decimal'>\n",
      "1.02\n",
      "152.727042\n"
     ]
    }
   ],
   "source": [
    "from decimal import Decimal\n",
    "numero = Decimal('0.01') #Note que o contrutor Decimal() recebe uma string como parâmetro\n",
    "print(numero)\n",
    "print(type(numero))\n",
    "print(2*numero+1)\n",
    "a = 56.414319\n",
    "b = 96.312723\n",
    "c = a + b\n",
    "print(c)"
   ]
  },
  {
   "cell_type": "markdown",
   "metadata": {},
   "source": [
    "Também é possível trabalhar com números complexos em projetos de pesquisa\n",
    "e engenharia, representando a unidade imaginária por \"j\" ou \"J\"."
   ]
  },
  {
   "cell_type": "code",
   "execution_count": 10,
   "metadata": {},
   "outputs": [
    {
     "name": "stdout",
     "output_type": "stream",
     "text": [
      "<class 'complex'>\n"
     ]
    }
   ],
   "source": [
    "numero = 1j * 1J\n",
    "print(type(numero))"
   ]
  },
  {
   "cell_type": "markdown",
   "metadata": {},
   "source": [
    "## Formatação do Output de dados "
   ]
  },
  {
   "cell_type": "code",
   "execution_count": 11,
   "metadata": {},
   "outputs": [
    {
     "name": "stdout",
     "output_type": "stream",
     "text": [
      "O pudim de passas é o meu favorito.\n",
      "--------------------------------------------\n",
      "O pudim de passas é o meu favorito.\n",
      "Vou querer 2 unidades para consumir\n",
      "aqui e 5 unidades para viagem, por favor.\n"
     ]
    }
   ],
   "source": [
    "#  Podemos inserir as variáveis no output de forma manual, como mostrado no exemplo abaixo:\n",
    "sobremesa = \"passas\"\n",
    "print(\"O pudim de %s é o meu favorito.\" %(sobremesa))\n",
    "#  Variáveis cujos dados são do tipo do tipo int são representadas por %d, strings são representadas \n",
    "#  por %s e pontos flutuantes são representadas como %f\n",
    "print(\"--------------------------------------------\")\n",
    "#  Para trabalhar com mais de uma variável em uma mesma saída de dados, podemos proceder da seguinte maneira:\n",
    "sobremesa = \"passas\"\n",
    "qtd = 2\n",
    "levar = 5\n",
    "print(\"O pudim de %s é o meu favorito.\\nVou querer %d unidades para consumir\\naqui e %d unidades para viagem, por favor.\" %(sobremesa, qtd,levar))\n",
    "#  Cria-se uma tupla e se insere as variáveis conforme a ordem em que as mesmas foram aparecendo"
   ]
  },
  {
   "cell_type": "code",
   "execution_count": 22,
   "metadata": {},
   "outputs": [
    {
     "name": "stdout",
     "output_type": "stream",
     "text": [
      "Porra, tomei aquela merda verde, agora solto lasers amarelos pelos olhos.\n",
      "Porra, porra, porra, eu não quero ser a droga de um super.\n",
      "\n",
      "Porra, tomei aquela merda verde, agora solto lasers amarelos pelos olhos.\n",
      "Porra, porra, porra, eu não quero ser a droga de um super.\n",
      "\n",
      "Porra, tomei aquela merda amarelo, agora solto lasers supers pelos olhos.\n",
      "Porra, porra, porra, eu não quero ser a droga de um verde.\n",
      "\n",
      "A divisão de 56.414 por 96.31272 é: 0.5857\n",
      "A divisão de 56.4 por 96.313 é: 0.5857\n"
     ]
    }
   ],
   "source": [
    "# Outra forma de formatar dados do Output é utilizando o .format(), como mostrado abaixo\n",
    "cor_1 = \"verde\"\n",
    "cor_2 = \"amarelo\"\n",
    "inimigo = \"super\"\n",
    "print(\"Porra, tomei aquela merda {}, agora solto lasers {}s pelos olhos.\\nPorra, porra, porra, eu não quero ser a droga de um {}.\\n\".format(cor_1,cor_2, inimigo))\n",
    "\n",
    "# Os elementos presentes na tupla .format() possuem um índice, de forma que podem ser \n",
    "# dispostos em qualquer local do output. O índice inicia em zero(0).\n",
    "\n",
    "cor_1 = \"verde\"\n",
    "cor_2 = \"amarelo\"\n",
    "inimigo = \"super\"\n",
    "print(\"Porra, tomei aquela merda {0}, agora solto lasers {1}s pelos olhos.\\nPorra, porra, porra, eu não quero ser a droga de um {2}.\\n\".format(cor_1,cor_2, inimigo))\n",
    "\n",
    "cor_1 = \"verde\"\n",
    "cor_2 = \"amarelo\"\n",
    "inimigo = \"super\"                                                                                                                                                                                                        # 0     #1       #2\n",
    "print(\"Porra, tomei aquela merda {1}, agora solto lasers {2}s pelos olhos.\\nPorra, porra, porra, eu não quero ser a droga de um {0}.\\n\".format(cor_1,cor_2, inimigo))\n",
    "\n",
    "# Para representar dados do tipo float, podemos usar as seguintes formatações:\n",
    "k = a/b\n",
    "print(\"A divisão de %.3f por %.5f é: %.4f\" %(a,b,k)) #Neste tipo de formatação, conta-se a quantidade de números após a vírgula\n",
    "print(\"A divisão de {:.3} por {:.5} é: {:.4}\".format(a,b,k)) # Neste tipo de formatação, conta-se a quatidade de algarismos não nulos de uma operação"
   ]
  },
  {
   "cell_type": "markdown",
   "metadata": {},
   "source": [
    "## Importando pacotes para melhorar a produtividade"
   ]
  },
  {
   "cell_type": "code",
   "execution_count": 13,
   "metadata": {},
   "outputs": [
    {
     "name": "stdout",
     "output_type": "stream",
     "text": [
      "Entre com um número:\n",
      "10\n",
      "\n",
      "A raiz quadrada de 10.0 é 3.1622776601683795\n",
      "\n"
     ]
    }
   ],
   "source": [
    "# Pacote matemático Numpy\n",
    "import numpy as np # O termo \"as\" serve para abreviar/simplificar o nome de uma biblioteca, facilitando a sua chamada\n",
    "num = float(input(\"Entre com um número:\\n\"))\n",
    "raiz = np.sqrt(num) # Usando uma função presente no pacote numpy (sqrt)\n",
    "print(f\"\\nA raiz quadrada de {num} é {raiz}\\n\")"
   ]
  },
  {
   "cell_type": "code",
   "execution_count": 14,
   "metadata": {},
   "outputs": [
    {
     "name": "stdout",
     "output_type": "stream",
     "text": [
      "Entre com um número:\n",
      "10\n",
      "\n",
      "A raiz quadrada de 10.0 é 3.1622776601683795\n",
      "\n"
     ]
    }
   ],
   "source": [
    "# Pacote matemático math\n",
    "import math\n",
    "num = float(input(\"Entre com um número:\\n\"))\n",
    "raiz = math.sqrt(num)\n",
    "print(f'\\nA raiz quadrada de {num} é {raiz}\\n')"
   ]
  }
 ],
 "metadata": {
  "kernelspec": {
   "display_name": "Python 3",
   "language": "python",
   "name": "python3"
  },
  "language_info": {
   "codemirror_mode": {
    "name": "ipython",
    "version": 3
   },
   "file_extension": ".py",
   "mimetype": "text/x-python",
   "name": "python",
   "nbconvert_exporter": "python",
   "pygments_lexer": "ipython3",
   "version": "3.8.5"
  }
 },
 "nbformat": 4,
 "nbformat_minor": 4
}
