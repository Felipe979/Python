{
 "cells": [
  {
   "cell_type": "markdown",
   "metadata": {},
   "source": [
    "### Introdução\n",
    "\n",
    "As variáveis do tipo char e string (caracteres e textos) são impressas utilizando\n",
    "aspas simples ('exemplo_1')  ou aspas duplas(\"exemplo_1\").\n",
    "\n",
    "Variáveis numéricas são expressas utilizando o próprio nome da variável"
   ]
  },
  {
   "cell_type": "code",
   "execution_count": null,
   "metadata": {},
   "outputs": [],
   "source": [
    "print('Olá Mundo!')\n",
    "print(\"Hello World\")\n",
    "print('Olá Mundo!' 'Hello World')\n",
    "print('Olá Mundo! ' 'Hello World')\n",
    "print(10+50)"
   ]
  },
  {
   "cell_type": "markdown",
   "metadata": {},
   "source": [
    "### Operações matemáticas básicas nativas"
   ]
  },
  {
   "cell_type": "code",
   "execution_count": null,
   "metadata": {},
   "outputs": [],
   "source": [
    "print(5+7 )       # Adição\n",
    "print(90-35)     # Subtração\n",
    "print(45*9)      # Multiplicação \n",
    "print(63/9)      # Divisão \n",
    "print(5**5)     # Potenciação\n",
    "print(11%3)   # Resto da divisão entre 11 e 3 (Operação Mod)"
   ]
  },
  {
   "cell_type": "markdown",
   "metadata": {},
   "source": [
    "## Atribuindo variáveis"
   ]
  },
  {
   "cell_type": "code",
   "execution_count": 26,
   "metadata": {},
   "outputs": [
    {
     "name": "stdout",
     "output_type": "stream",
     "text": [
      "Batata Batata Batata \n"
     ]
    }
   ],
   "source": [
    "a = 5                     # Significa dizer que na variável a, armazenamos o dado 5\n",
    "b = 3\n",
    "texto = \"Batata \"  # Significa dizer que na variável texto, armazenamos os dados Batata\n",
    "print(3*texto)      # Aqui estamos repetindo 3 vezes o conteúdo string contido na variável texto"
   ]
  },
  {
   "cell_type": "code",
   "execution_count": null,
   "metadata": {},
   "outputs": [],
   "source": [
    "m = 'z'\n",
    "print(type(m)) # O comando type mostra o tipo de uma variável, função ou operador.\n",
    "print(type(a))"
   ]
  },
  {
   "cell_type": "markdown",
   "metadata": {},
   "source": [
    "## Input e Output de dados\n",
    "\n",
    "Input é uma função com o objetivo de interagir com o mundo externo. Tem o objetivo de coletar \\\n",
    "armazenar, trabalhar e/ou processar os dados fornecidos pelo usuário. Por padrão, o Phyton ar- \\\n",
    "mazena os valores fornecidos pelo usuário como variáveis do tipo string. Para armazenarmos\n",
    "valores em tipo float ou int, devemos informar o tipo de variável que deve ser inserida pelo usuário"
   ]
  },
  {
   "cell_type": "code",
   "execution_count": null,
   "metadata": {},
   "outputs": [],
   "source": [
    "idade = input('Qual a sua idade? \\n')\n",
    "print(type(idade))\n",
    "\n",
    "idade = int(input('Qual a sua idade? \\n'))\n",
    "print(type(idade))\n",
    "\n",
    "idade = float(input('Qual a sua idade? \\n'))\n",
    "print(type(idade))"
   ]
  },
  {
   "cell_type": "markdown",
   "metadata": {},
   "source": [
    "Outras linguagens de programação possuem o tipo \"double\" para representar números de ponto flutuante. \\\n",
    "Em Python usamos float e, caso seja necessária uma precisão de casas decimais, pode-\\\n",
    "mos importar e usar o pacote Decimal, como é mostrado no exemplo abaixo:"
   ]
  },
  {
   "cell_type": "code",
   "execution_count": null,
   "metadata": {},
   "outputs": [],
   "source": [
    "from decimal import Decimal # Comando para importar da biblioteca 'decimal' apenas o pacote de códigos chamado 'Decimal'. Isso ajuda a tornar o código mais leve\n",
    "numero = Decimal('0.01')         #Note que o construtor Decimal() recebe uma string como parâmetro\n",
    "print(numero)\n",
    "print(type(numero))\n",
    "print(2*numero+1)"
   ]
  },
  {
   "cell_type": "markdown",
   "metadata": {},
   "source": [
    "Também é possível trabalhar com números complexos em projetos de pesquisa\n",
    "e engenharia, representando a unidade imaginária por \"j\" ou \"J\"."
   ]
  },
  {
   "cell_type": "code",
   "execution_count": null,
   "metadata": {},
   "outputs": [],
   "source": [
    "numero = 3 + 1j\n",
    "print(type(numero))"
   ]
  },
  {
   "cell_type": "markdown",
   "metadata": {},
   "source": [
    "## Formatação do Output de dados "
   ]
  },
  {
   "cell_type": "code",
   "execution_count": 20,
   "metadata": {},
   "outputs": [
    {
     "name": "stdout",
     "output_type": "stream",
     "text": [
      "O pudim de passas é o meu favorito.\n",
      "--------------------------------------------\n",
      "O pudim de passas é o meu favorito.\n",
      "Vou querer 2 unidades para consumir aqui\n",
      "e 5 unidades para viagem, por favor.\n"
     ]
    }
   ],
   "source": [
    "#  Podemos inserir as variáveis no output de forma manual, como mostrado no exemplo abaixo:\n",
    "sobremesa = \"passas\"\n",
    "print(\"O pudim de %s é o meu favorito.\" %(sobremesa))\n",
    "#  Variáveis cujos dados são do tipo do tipo int são representadas por %d, strings são representadas \n",
    "#  por %s e pontos flutuantes são representadas como %f\n",
    "print(\"--------------------------------------------\")\n",
    "#  Para trabalhar com mais de uma variável em uma mesma saída de dados, podemos proceder da seguinte maneira:\n",
    "sobremesa = \"passas\"\n",
    "qtd = 2\n",
    "levar = 5\n",
    "print(\"O pudim de %s é o meu favorito.\\nVou querer %d unidades para consumir aqui\\ne %d unidades para viagem, por favor.\" %(sobremesa, qtd,levar))\n",
    "#  Cria-se uma tupla e se insere as variáveis conforme a ordem em que as mesmas forem aparecendo"
   ]
  },
  {
   "cell_type": "code",
   "execution_count": 33,
   "metadata": {},
   "outputs": [
    {
     "name": "stdout",
     "output_type": "stream",
     "text": [
      "Porra, tomei aquela merda verde, agora solto lasers amarelos pelos olhos.\n",
      "Porra, porra, porra, eu não quero ser a droga de um super.\n",
      "\n",
      "Porra, tomei aquela merda verde, agora solto lasers amarelos pelos olhos.\n",
      "Porra, porra, porra, eu não quero ser a droga de um super.\n",
      "\n",
      "Porra, tomei aquela merda amarelo, agora solto lasers supers pelos olhos.\n",
      "Porra, porra, porra, eu não quero ser a droga de um verde.\n",
      "\n",
      "A divisão de 5.000 por 3.00000 é: 1.66667\n",
      "\n",
      "A divisão de 5.000 por 3.00000 é: 1.66667\n",
      "\n"
     ]
    }
   ],
   "source": [
    "# Outra forma de formatar dados do Output é utilizando o .format(), como mostrado abaixo\n",
    "cor_1 = \"verde\"\n",
    "cor_2 = \"amarelo\"\n",
    "inimigo = \"super\"\n",
    "print(\"Porra, tomei aquela merda {}, agora solto lasers {}s pelos olhos.\\nPorra, porra, porra, eu não quero ser a droga de um {}.\\n\".format(cor_1,cor_2, inimigo))\n",
    "\n",
    "# Os elementos presentes na tupla .format() possuem um índice, de forma que podem ser \n",
    "# dispostos em qualquer local do output. O índice inicia em zero, isto é, .format(0,1,2,...,n).\n",
    "\n",
    "cor_1 = \"verde\"\n",
    "cor_2 = \"amarelo\"\n",
    "inimigo = \"super\"\n",
    "print(\"Porra, tomei aquela merda {0}, agora solto lasers {1}s pelos olhos.\\nPorra, porra, porra, eu não quero ser a droga de um {2}.\\n\".format(cor_1,cor_2, inimigo))\n",
    "\n",
    "cor_1 = \"verde\"\n",
    "cor_2 = \"amarelo\"\n",
    "inimigo = \"super\"                                                                                                                                                                                                        # 0     #1       #2\n",
    "print(\"Porra, tomei aquela merda {1}, agora solto lasers {2}s pelos olhos.\\nPorra, porra, porra, eu não quero ser a droga de um {0}.\\n\".format(cor_1,cor_2, inimigo))\n",
    "\n",
    "# Para representar dados do tipo float, podemos usar as seguintes formatações:\n",
    "k = a/b\n",
    "  \n",
    "print(\"A divisão de %.3f por %.5f é: %.5f\\n\" %(a,b,k)) #Neste tipo de formatação, conta-se a quantidade de números após a vírgula\n",
    "print(\"A divisão de {:.3f} por {:.5f} é: {:.5f}\\n\".format(a,b,k)) # Neste tipo de formatação, conta-se a quatidade de algarismos não nulos de uma operação"
   ]
  },
  {
   "cell_type": "markdown",
   "metadata": {},
   "source": [
    "## Importando pacotes para melhorar a produtividade"
   ]
  },
  {
   "cell_type": "code",
   "execution_count": null,
   "metadata": {},
   "outputs": [],
   "source": [
    "# Pacote matemático Numpy\n",
    "import numpy as np # O termo \"as\" serve para abreviar/simplificar o nome de uma biblioteca, facilitando a sua chamada\n",
    "num = float(input(\"Entre com um número:\\n\"))\n",
    "raiz = np.sqrt(num) # Usando uma função presente no pacote numpy (sqrt)\n",
    "print(f\"\\nA raiz quadrada de {num} é {raiz}\\n\")"
   ]
  },
  {
   "cell_type": "code",
   "execution_count": null,
   "metadata": {},
   "outputs": [],
   "source": [
    "# Pacote matemático math\n",
    "import math as mt\n",
    "num = float(input(\"Entre com um número:\\n\"))\n",
    "raiz = mt.sqrt(num)\n",
    "print(f'\\nA raiz quadrada de {num} é {raiz}\\n')"
   ]
  },
  {
   "cell_type": "code",
   "execution_count": null,
   "metadata": {},
   "outputs": [],
   "source": [
    "import random\n",
    "import numpy as np\n",
    "\n",
    "# Criar o array 3 x 3 com números aleatórios entre 1 e 52\n",
    "x = np.random.randint(1,101, (3,5))\n",
    "\n",
    "print(x)"
   ]
  }
 ],
 "metadata": {
  "kernelspec": {
   "display_name": "Python 3",
   "language": "python",
   "name": "python3"
  },
  "language_info": {
   "codemirror_mode": {
    "name": "ipython",
    "version": 3
   },
   "file_extension": ".py",
   "mimetype": "text/x-python",
   "name": "python",
   "nbconvert_exporter": "python",
   "pygments_lexer": "ipython3",
   "version": "3.8.5"
  }
 },
 "nbformat": 4,
 "nbformat_minor": 4
}
