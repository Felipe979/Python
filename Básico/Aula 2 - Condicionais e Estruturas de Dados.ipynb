{
 "cells": [
  {
   "cell_type": "markdown",
   "metadata": {},
   "source": [
    "# Comandos de repetição e estruturas de dados"
   ]
  },
  {
   "cell_type": "code",
   "execution_count": 1,
   "metadata": {},
   "outputs": [
    {
     "name": "stdout",
     "output_type": "stream",
     "text": [
      "Reset css and font defaults in:\n",
      "C:\\Users\\felip\\.jupyter\\custom &\n",
      "C:\\Users\\felip\\AppData\\Roaming\\jupyter\\nbextensions\n"
     ]
    }
   ],
   "source": [
    "!jt -r "
   ]
  },
  {
   "cell_type": "code",
   "execution_count": 32,
   "metadata": {},
   "outputs": [
    {
     "name": "stdout",
     "output_type": "stream",
     "text": [
      "Olá, bem vindo ao nosso programa!\n",
      "Por favor informa a sua idade:19\n",
      "Você é maior de idade\n"
     ]
    }
   ],
   "source": [
    "idade = float(input(\"Olá, bem vindo ao nosso programa!\\nPor favor informa a sua idade:\"))\n",
    "if idade < 18: # todo if, elif ou else precisa do caractere de dois pontos(:) para ser executado e identado\n",
    "    print(\"Você é menor de idade!\")\n",
    "elif idade >= 18 and idade <21:\n",
    "    print(\"Você é maior de idade\")\n",
    "elif idade >= 21:\n",
    "    print(\"Você já alcançou a maioridade civil!\")"
   ]
  },
  {
   "cell_type": "code",
   "execution_count": 10,
   "metadata": {},
   "outputs": [
    {
     "name": "stdout",
     "output_type": "stream",
     "text": [
      "12\n"
     ]
    }
   ],
   "source": [
    "numero = 5\n",
    "\n",
    "numero += 7\n",
    "print(numero)  # Resultado será 12\n"
   ]
  },
  {
   "cell_type": "code",
   "execution_count": 16,
   "metadata": {},
   "outputs": [
    {
     "name": "stdout",
     "output_type": "stream",
     "text": [
      "Ambas as condições são falsas\n"
     ]
    }
   ],
   "source": [
    "num1 = 1\n",
    "num2 = 40\n",
    "\n",
    "# Exemplo and\n",
    "if num1 > 3 and num2 < 8:\n",
    "    print(\"As Duas condições são verdadeiras\")\n",
    "\n",
    "# Exemplo or\n",
    "if num1 > 4 or num2 <= 8:\n",
    "    print(\"Uma ou duas das condições são verdadeiras\")\n",
    "\n",
    "# Exemplo not\n",
    "if not (num1 < 30 and num2 < 8):\n",
    "    print('Ambas as condições são falsas')"
   ]
  },
  {
   "cell_type": "code",
   "execution_count": 29,
   "metadata": {},
   "outputs": [
    {
     "name": "stdout",
     "output_type": "stream",
     "text": [
      "Os objetos são diferentes? True\n"
     ]
    }
   ],
   "source": [
    "lista = [1,2,3]\n",
    "tupla = (1,2,3)\n",
    "print(f\"Os objetos são diferentes? {lista is not tupla}\")\n"
   ]
  },
  {
   "cell_type": "code",
   "execution_count": null,
   "metadata": {},
   "outputs": [],
   "source": []
  }
 ],
 "metadata": {
  "kernelspec": {
   "display_name": "Python 3 (ipykernel)",
   "language": "python",
   "name": "python3"
  },
  "language_info": {
   "codemirror_mode": {
    "name": "ipython",
    "version": 3
   },
   "file_extension": ".py",
   "mimetype": "text/x-python",
   "name": "python",
   "nbconvert_exporter": "python",
   "pygments_lexer": "ipython3",
   "version": "3.9.12"
  }
 },
 "nbformat": 4,
 "nbformat_minor": 4
}
